{
 "cells": [
  {
   "cell_type": "markdown",
   "metadata": {},
   "source": [
    "# Continuous prediction of the antibody concentration profile\n",
    "\n",
    "While the static approach achieved high accuracy on relative glycan prediction, it requires data throughout the entire timespan of the experiment to make that prediction. The aim of this thesis is to make real-time predictions of the glycan distribution. The first step towards attaining that goal is to predict the concentration profiles of the nutrients, antibody, total cell density and viable cell density for future timesteps of the experiment given experimental data till the current time step. The dynamic approach presents a framework that predicts the concentration profile of the antibody for the future N - x time steps given information about the first x timesteps and considering the entire experiment will run for N timesteps.  "
   ]
  },
  {
   "cell_type": "markdown",
   "metadata": {},
   "source": [
    "# Dynamic Approach\n",
    "\n",
    "The dataset available to us is a combination of time series data and cross-sectional data also known as pooled data. Since it is multivariate, simple univariate time series analysis like AR, ARMAX will not work on it and since it is pooled, multivariate analysis methods like VARMAX won't work either.  Therefore I have chosen a Recurrent Neural Network with LSTM cells as the primary framework of the dynamic approach.  "
   ]
  },
  {
   "cell_type": "markdown",
   "metadata": {},
   "source": [
    "# Recurrent Neural Network\n",
    "\n"
   ]
  }
 ],
 "metadata": {
  "kernelspec": {
   "display_name": "Python 3",
   "language": "python",
   "name": "python3"
  },
  "language_info": {
   "codemirror_mode": {
    "name": "ipython",
    "version": 3
   },
   "file_extension": ".py",
   "mimetype": "text/x-python",
   "name": "python",
   "nbconvert_exporter": "python",
   "pygments_lexer": "ipython3",
   "version": "3.6.5"
  }
 },
 "nbformat": 4,
 "nbformat_minor": 2
}
