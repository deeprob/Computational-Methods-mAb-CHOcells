{
 "cells": [
  {
   "cell_type": "markdown",
   "metadata": {},
   "source": [
    "# Current N-linked glycosylation models\n",
    "\n",
    "The inherent complexity in glycosylation reaction networks has provided\n",
    "significant challenges to modelers seeking to create appropriate mathematical representations of the underlying biological phenomenon. In overcoming these challenges, several models based on mechanistic and empirical approaches have been developed (Sha et al. 2016). Each of these glycan models has contributed significantly to our knowledge of the mechanisms associated with protein glycosylation and helped quantify the changes in the glycosylation patterns in glycoproteins. Although models\n",
    "for both N-linked and O-linked glycosylation are widely available (Neelamegham et al. 2008; Puri and Neelamegham 2012), for the purposes of this study, we limit our discussion to models for N-linked glycosylation alone.\n",
    "Glycosylation models have been developed to understand the diversity in\n",
    "glycan site occupancy in glycoproteins and the diversity in glycan structures and branching patterns at specific glycan sites on the protein backbone. Although models describing the branching patterns in observed in N-linked glycosylation reaction networks are more numerous, very few have examined the heterogeneity in glycan site\n",
    "occupancy (macroheterogeneity) that arises in glycoproteins with multiple glycan binding sites. For instance, the kinetic modeling framework developed by Shelikoff and coworkers (Shelikoff et al. 1996) modeled the co-translational transfer of the dolichol phosphate linked oligosaccharide to the nascent polypeptide. Although their model was largely qualitative in nature, it provided a framework to determine how glycosylation site occupancy depended on protein synthesis rates, and other parameters. In contrast to this structured kinetic model, Senger developed a predictive\n",
    "model using artificial neural networks (Senger and Karim 2005) to study site occupancy of recombinant tissue plasminogen activator (r-tPA) based on protein sequencing. Their goal was to understand how different protein residues influence the eventual glycan macroheterogeneity in glycoproteins with multiple binding sites. As with the structured kinetic model developed previously, the challenge of corroborating model predictions with experimental data has limited the applicability of models predicting glycan macroheterogeneity. Mathematical models that predict the variability in glycan branching and the resulting microheterogeneity in glycoproteins have gained in popularity in recent years. These models quantify the non-template driven, enzymatic modification of the oligosaccharide attached to the protein backbone as the glycoprotein traverses the different regions of the Golgi apparatus before being secreted. One of the earliest kinetic models to capture the complexity of N-linked glycosylation networks was developed by Umaña and Bailey who wished to develop rational metabolic engineering strategies guided by effective mathematical models to achieve desired glycoform distributions(Umaña and Bailey 1997). In this seminal work, the\n",
    "mathematical model (referred to as UB1997) was developed considering mass\n",
    "balances for a simple glycosylation reaction network with 33 glycoforms participating in 33 reactions catalyzed by 7 glycosyltransferase enzymes. They factored the transport of proteins between different regions of the Golgi complex and modeled the individual enzymatic reactions using Michaelis-Menten rate expressions. The resulting oligosaccharide balances were generated using the glycan productivity rate which, in turn, was estimated from the glycoprotein productivity rate – a critical assumption that formed the basis of all subsequent kinetic models. Having estimated kinetic parameters from literature, the model was then analyzed at steady state to assess qualitative differences in glycan distribution as a function of antibody productivity as well as differences in the glycan distribution arising due to changes in glycan activity. Krambeck and Betenbaugh expanded the scope and applicability of the UB1997 model by incorporating additional glycosyltransferase enzymes and glycan branching structures, thereby enhancing the predictive capability of the model to a\n",
    "very wide range of oligosaccharide structures (Krambeck and Betenbaugh 2005). The resulting mathematical model (referred to as KB2005) predicted the formation of 7565 glycan structures participating in 22,871 reactions catalyzed by 11 glycosyltransferase enzymes. Like the UB1997 model before it, the KB2005 model too assumed that the Golgi apparatus could be modeled as a series of well-mixed reactors in sequence with bulk transport of cargo. The KB2005 model introduced a framework for automated generation of different glycosylation reaction networks (and consequently, various\n",
    "oligosaccharide sequences) by defining enzyme reaction rules. These rules vastly simplified the computational expense involved in generating large scale glycan reaction networks and enabled effective mathematical representation of different glycoforms using a nine-digit numbering system. The developed kinetic model was solved under steady state conditions using kinetic parameters estimated from literature and compared to experimental data. The model was also used to study the effect of increased glycan productivity on the glycosylation profile. In subsequent\n",
    "developments, the predictive capabilities of an expanded version of the KB2005 model were refined by adjusting model parameters based on mass spectrometric measurements (Krambeck et al. 2009) and transcriptomic data was integrated with the glycomic model to identify cell biomarkers (Bennun et al. 2013). Contemporaneous to the development of the KB2005 model, which was based on the then prevailing vesicular transport model of the Golgi complex, studies of protein secretion in live cells seemed to suggest that the cisternal maturation model could account for secretory kinetics in the Golgi compartment better than the vesicular transport model (Losev et al. 2006; Matsuura-Tokita et al. 2006). To compare the differences in the glycan distribution arising due to the choice of vesicular transport model and the cisternal maturation model, Hossler and coworkers developed two reaction schemes wherein they modeled the different compartments of the Golgi compartment as four continuous mixing tanks (CSTR) or four plug flow reactors (PFR) respectively (Hossler et al. 2007). The authors examined the effect of processing time, compartmentalization, and spatial localization of enzymes on the\n",
    "glycan distribution while studying the sensitivity of individual glycoforms to the concentrations of different enzymes. They noticed that the four PFR model provided a more realistic representation of the glycan distribution than the four CSTR model, indicating the effect of processing time on glycan microheterogeneity. The work done in this study is further enhanced when compared to past experimental data highlighting the effect of processing time on glycan microheterogeneity. For instance, Wang and coworkers (Wang et al. 1991) found that the amount of olyacetyllactosamines in membrane glycoproteins increased with prolonged association with the Golgi at lower temperatures due to slower intracellular transport. This was similar to the work by Fuller and coworkers (Fuller et al. 1985) who had demonstrated a change in the galactosylation and sialylation of a G protein processed at lower temperatures, due to increased residence time in the Golgi. In a further extension based on the cisternal maturation model, del Val and coworkers developed a model (referred to as DK2011) where the Golgi complex was\n",
    "viewed as a single PFR and obtained dynamic material balance for different\n",
    "glycoforms as well as nucleotide sugar donors (del Val et al. 2011). They also defined enzyme and transporter protein concentrations along the length of the Golgi apparatus to account for recycling of the different components along the Golgi compartment, while incorporating detailed kinetic mechanisms for each enzyme catalyzed reaction. Kinetic parameters were estimated from literature and unknown parameters were estimated using optimization routines. The resulting model was matched with experimental data and compared to previous models. The DK2011 model provided a comprehensive dynamic glycosylation model that, when coupled to a model for nucleotide sugar donor (NSD) metabolism could link bioreactor and extracellular conditions to intracellular changes.\n",
    "As most of these kinetic models require extensive parameter estimation, there have been attempts at reconciling experimental glycosylation distribution data to parameter free models. For instance, predictive glycan models have been developed using artificial neural networks (Senger and Karim 2008) that correlate the type of glycan attached to a particular site to protein structure and sequence. By examining protein databases and antibody structures, such a neural network model aims to reduce the need for using elaborate kinetic models. Recently, Spahn and coworkers developed a low parameter Markov chain model for predicting the glycan distribution in different glycoproteins and evaluated its efficacy to predict the effect of glycosyltransferase knockdowns on glycosylation (Spahn et al. 2016). By utilizing the reaction rules first elucidated in the KB2005 model, a probabilistic framework was developed for generating a glycosylation reaction network. The model does not account for nucleotide sugar precursors, but simply adjusts the transition properties in the Markov model to account for changes in the glycan distribution. Along similar lines, Kremkow and Lee have developed a parameter free glycosylation network model specifically for CHO model based on the CHO genome (Kremkow and Lee 2016). While such predictive models have helped lay the framework for understanding the diversity in glycosylation reaction networks, **there is still a need to develop a model that connects extracellular conditions to changes in intracellular conditions and provides real-time predictions of the glycan distribution in monoclonal antibodies**. "
   ]
  },
  {
   "cell_type": "markdown",
   "metadata": {},
   "source": [
    "# References:\n",
    "\n",
    "1. Modeling, estimation and control of glycosylation in monoclonal antibodies produced in CHO cells by Devesh Radhakrishnan "
   ]
  }
 ],
 "metadata": {
  "kernelspec": {
   "display_name": "Python 3",
   "language": "python",
   "name": "python3"
  },
  "language_info": {
   "codemirror_mode": {
    "name": "ipython",
    "version": 3
   },
   "file_extension": ".py",
   "mimetype": "text/x-python",
   "name": "python",
   "nbconvert_exporter": "python",
   "pygments_lexer": "ipython3",
   "version": "3.6.5"
  }
 },
 "nbformat": 4,
 "nbformat_minor": 2
}
