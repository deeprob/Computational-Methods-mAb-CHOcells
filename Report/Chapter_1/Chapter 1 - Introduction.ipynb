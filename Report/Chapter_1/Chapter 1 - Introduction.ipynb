{
 "cells": [
  {
   "cell_type": "markdown",
   "metadata": {},
   "source": [
    "# Introduction"
   ]
  },
  {
   "cell_type": "markdown",
   "metadata": {},
   "source": [
    "## The global pharmaceuticals market\n",
    "The global market for pharmaceuticals reached \\\\$1.2 trillion in 2018, up \\\\$100 billion from 2017, according to the Global Use of Medicines report from the IQVIA Institute for Human Data Science. For the US specifically, the 2018 spending was \\\\$485 billion, up 5.2% over the previous year. \n",
    "![title](pharmaceuticals-market.jpg)"
   ]
  },
  {
   "cell_type": "markdown",
   "metadata": {},
   "source": [
    "## Rapid advancement of biopharmaceuticals\n",
    "At present, there has been a rapid advancement in the number of biopharmaceuticals available for clinical use. The United States Food and Drug Administration (USFDA) has approved 18 new biopharmaceutical products in 2012, which include eight recombinant proteins, along with two monoclonal antibodies and one engineered antibody-like biomolecule, covering a wide range of innovation, novelty, healthcare and market impact. Research data released by PharmaVision in 2009 shows that biopharmaceuticals represent 7.5% of all drugs in the market and account for ~10% of the total expenses for marketed drugs. The usage of biopharmaceuticals are increasing at the rate >20% per year. They are already being used 74% more than chemically derived pharmaceuticals, in life-saving or end-stage applications. Moreover, biopharmaceuticals covers > 30% of all pipeline research programs going-on at present.\n",
    "\n",
    "![title](biopharmagrowth.jpg)"
   ]
  },
  {
   "cell_type": "markdown",
   "metadata": {},
   "source": [
    "## Monoclonal Antibodies\n",
    "Glycoproteins, including monoclonal antibodies, represent the largest fraction of marketed biopharmaceuticals and those in clinical development. In 2015, global sales of the top 5 best-selling mAbs (Humira®, Remicade®, Rituxan®, Avastin®, and Herceptin®), prescribed for treating breast cancer, colon cancer, Crohn’s disease to rheumatoid arthritis, exceeded US $45 billion, indicating the high commercial value of these biotherapeutics. However, despite the therapeutic benefits offered by these drugs, they present a financial burden on the healthcare system, with increased drug pricing becoming a matter of concern for both patients and policy makers (Araújo et al. 2016; Kesselheim et al. 2016). \n",
    "\n",
    "![title](mabs.png)"
   ]
  },
  {
   "cell_type": "markdown",
   "metadata": {},
   "source": [
    "## Interest in biosimilars\n",
    "As the patents providing exclusive rights to many of the high-profile and blockbuster monoclonal antibody products expire, there has been a growing interest in the development of biosimilars. In September 2013, the first biosimilar monoclonal antibodies, sold under the brand names Remsima and Inflectra, were approved for commercial sale in Europe. These biosimilar versions of the blockbuster monoclonal antibody product Remicade are the first of many biosimilar monoclonal antibodies that will undoubtedly be approved for commercial sale in the US and Europe. Although the current impact of these and other biosimilar monoclonal antibody products in US and European biopharmaceutical marketplace cannot be gauged at this early stage, we anticipate modest acceleration of the sales growth of all monoclonal antibodies as these biosimilar products gain market acceptance. There is also a surging interest in biosimilar monoclonal antibodies in the global markets of Latin America, China, Southeast Asia, India, and Russia, with several monoclonal antibody products already approved in these regions. The introduction of biosimilars in these markets is likely to have a very large impact on the global sales of monoclonal antibody products as biosimilar monoclonal antibodies are approved in geographies that are currently unable to access expensive innovator products.\n",
    "\n",
    "![title](biosimilar.jpg)"
   ]
  },
  {
   "cell_type": "markdown",
   "metadata": {},
   "source": [
    "## Characterization of critical quality attributes\n",
    "As biosimilars share an identical amino acid sequence with the innovator\n",
    "molecule but differ only in their quality profiles, regulatory agencies are seeking extensive characterization of the complete quality attributes of the drug. The advent of biosimilars notwithstanding, there is a shift in the focus from improving productivity, which has dramatically increased with host cell optimization, to maintaining consistent product quality across batches, in order to improve overall profitability (Kelley 2009).\n",
    "Over the past decade, regulatory agencies have also been encouraging the\n",
    "biopharmaceutical industry to implement the ‘Quality by Design’ framework, wherein quality related to drug product safety and efficacy is in-built into every stage of the process, as per ICH Q8 guidelines (del Val et al. 2010; Rathore et al. 2010; Rathore and Winkle 2009). Maintaining drug product quality to ensure product safety and efficacy has therefore come to occupy the center stage of the biopharmaceutical industry.\n",
    "\n",
    "![title](mabcqa.jpg)"
   ]
  },
  {
   "cell_type": "markdown",
   "metadata": {},
   "source": [
    "## Glycosylation in mAbs\n",
    "One of the most important determinant of mAb quality is N-glycosylation, a posttranslational modification of the antibody in which an oligosaccharyltransferase complex in the endoplasmic reticulum adds a sugar substrate (glycan) to the Asn-X-Ser/Thr motif in the heavy chain of the mAb (where X is any amino acid other than Pro). As the mAb traverses the Golgi complex, the attached oligosaccharide is subjected to a series of non-template driven enzymatic modifications mediated by the localized glycosyltransferase enzymes in the different Golgi compartments (Cumming\n",
    "2003; Kornfeld and Kornfeld 1985). The intricate dynamics of multiple\n",
    "glycosyltransferase enzymes determine the eventual fate of the core glycan and result in the formation of a diverse array of glycan isoforms that affect the immunogenicity, effector functions, and the pharmacokinetic properties of the mAb, and consequently the final drug product quality (Berger et al. 2012; del Val et al. 2010; Liu 2015). Thus, there is considerable motivation for manufacturers to understand, characterize, and, if necessary, modulate the glycoform distribution in mAbs in order to maintain a consistent glycan profile and to meet the quality standards established by regulatory agencies worldwide (FDA 2006; Harmonised Tripartite Guideline 2009; Read et al. 2011; Wacker et al. 2011). Therefore, the overall objective of this thesis is **to provide a rational framework to quantitatively model and estimate glycosylation in monoclonal antibodies produced in mammalian cells**.\n",
    "\n",
    "![title](glycopath.png)"
   ]
  },
  {
   "cell_type": "markdown",
   "metadata": {},
   "source": [
    "## References\n",
    "1. https://pharmaceuticalcommerce.com/business-and-finance/global-pharma-spending-will-hit-1-5-trillion-in-2023-says-iqvia/\n",
    "2. https://symbiosisonlinepublishing.com/pharmacy-pharmaceuticalsciences/pharmacy-pharmaceuticalsciences20.php\n",
    "3. https://www.ncbi.nlm.nih.gov/pmc/articles/PMC4622599/#s0003title\n",
    "4. Modeling, estimation and control of glycosylation in monoclonal antibodies produced in CHO cells by Devesh Radhakrishnan\n",
    "5. Toward online quality control during biopharmaceutical production by Melissa M. St. Amand\n",
    "6. https://www.grandviewresearch.com/industry-analysis/biopharmaceuticals-contract-manufacturing-market"
   ]
  }
 ],
 "metadata": {
  "kernelspec": {
   "display_name": "Python 3",
   "language": "python",
   "name": "python3"
  },
  "language_info": {
   "codemirror_mode": {
    "name": "ipython",
    "version": 3
   },
   "file_extension": ".py",
   "mimetype": "text/x-python",
   "name": "python",
   "nbconvert_exporter": "python",
   "pygments_lexer": "ipython3",
   "version": "3.6.5"
  }
 },
 "nbformat": 4,
 "nbformat_minor": 2
}
