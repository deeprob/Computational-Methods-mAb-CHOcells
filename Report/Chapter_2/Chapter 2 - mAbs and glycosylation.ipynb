{
 "cells": [
  {
   "cell_type": "markdown",
   "metadata": {},
   "source": [
    "# Antibodies\n",
    "\n",
    "An antibody, also known as immunoglobin, is a protective protein produced by the immune system in response to a foreign substance called an antigen. \n",
    "When an alien substance enters the body, the immune system is able to recognize it as foreign because molecules on the surface of the antigen differ from those found in the body. To eliminate the invader, the immune system calls on a number of mechanisms, including one of the most important—antibody production. As antibodies circulate, they attack and neutralize antigens that are identical to the one that triggered the immune response. Antibodies attack antigens by binding to them. The binding of an antibody to a toxin, for example, can neutralize the poison simply by changing its chemical composition; such antibodies are called antitoxins. By attaching themselves to some invading microbes, other antibodies can render such microorganisms immobile or prevent them from penetrating body cells. In other cases the antibody-coated antigen is subject to a chemical chain reaction with complement, which is a series of proteins found in the blood. The complement reaction either can trigger the lysis (bursting) of the invading microbe or can attract microbe-killing scavenger cells that ingest, or phagocytose, the invader. Once begun, antibody production continues for several days until all antigen molecules are removed. Antibodies remain in circulation for several months, providing extended immunity against that particular antigen. The core structure of these antibodies consists of two identical heavy chains and two identical light chains that together bind to form a Y-shaped structure as shown in the figure below:\n",
    "\n",
    "![](Antibody.jpg)"
   ]
  },
  {
   "cell_type": "markdown",
   "metadata": {},
   "source": [
    "The stem of the Y consists of one end of each of two identical heavy chains, while each arm is composed of the remaining portion of a heavy chain plus a smaller protein called the light chain. The two light chains also are identical. Within particular classes of antibodies the stem and the bottom of the arms are fairly similar and thus are called the constant region. The tips of the arms, however, are highly variable in sequence. It is these tips that bind antigen. Thus each antibody has two identical antigen-binding sites, one at the end of each arm, and the antigen-binding sites vary greatly among antibodies.\n",
    "\n",
    "Antibodies are grouped into five classes according to their constant region. Each class is designated by a letter attached to an abbreviation of the word immunoglobulin: IgG, IgM, IgA, IgD, and IgE. The classes of antibody differ not only in their constant region but also in activity. For example, IgG, the most common antibody, is present mostly in the blood and tissue fluids, while IgA is found in the mucous membranes lining the respiratory and gastrointestinal tracts."
   ]
  },
  {
   "cell_type": "markdown",
   "metadata": {},
   "source": [
    "# Monoclonal Antibodies\n",
    "\n",
    "Monoclonal antibodies (mAbs) are antibodies that are produced in cells\n",
    "originating from a single ancestry and have a very high specificity for a particular antigen. There are many forms of MAbs, but variations of the IgG1 form, which consists of two heavy chains and two light chains that together weigh ~150kDa, are most widely used as therapeutic proteins. The four peptide chains of an IgG1 form two antigen binding, or variable, regions and a single constant region.\n",
    "![](MAB_structure.png)"
   ]
  },
  {
   "cell_type": "markdown",
   "metadata": {},
   "source": [
    "The antigen binding region allows the monoclonal antibody high specificity to the antigen where as the constant region is involved with effector functions in vivo. The specificity for an antigen and the contribution to effector functions in vivo make monoclonal antibodies ideal therapies for a variety of diseases ranging from rheumatoid arthritis, multiple sclerosis, heart disease and cancer."
   ]
  },
  {
   "cell_type": "markdown",
   "metadata": {},
   "source": [
    "# Antibody Expression System\n",
    "\n",
    "Therapeutic mAbs can be synthesized in several different mammalian cell\n",
    "expression systems such as Chinese Hamster Ovary (CHO) cell lines, murine\n",
    "myeloma cell lines NS0, Sp2/0, with over half of all currently approved mAbs are produced in Chinese Hamster Ovary (CHO) cell lines (data accessed online from Drugs@FDA). The preference for CHO as the host expression system for recombinant therapeutic proteins arises from a variety of reasons. Regulatory agencies have greater confidence in the safety of CHO-based therapeutic products due to the decades long research and safety testing that has been carried out on this commercial cell line. From\n",
    "a manufacturing perspective, the availability of powerful gene amplification systems, such as DHFR-mediated gene amplification, helps improve specific productivity in these cell lines thereby driving up overall profitability. In recent years, antibody titers of up to 1 g/L for batch cultures and from 1-10 g/L for fed-batch cultures have been reported for CHO based mAb production processes, indicating the extensive development that has taken place in this field. Additionally, the ease of adapting CHO cells to suspension cultures that are required for large scale glycan production makes them a preferred host for most therapeutics. In addition to the advantages given above, CHO cells present the distinct\n",
    "advantage of having post-translational modification machinery that enables the formation of structures commonly observed in human cells, thereby ensuring biocompatibility between the products manufactured in CHO cells and human beings."
   ]
  },
  {
   "cell_type": "markdown",
   "metadata": {},
   "source": [
    "# Quality Attributes of mAbs\n",
    "\n",
    "Though MAbs are effective treatments for a variety of diseases, their high manufacturing costs can make these therapeutics prohibitively expensive. For example, Tratuzumab is a monoclonal antibody therapeutic used to treat adjuvant and metastatic breast cancer, and Bevacizumab is a monoclonal antibody therapeutic used to treat metastatic lung and colorectal cancer. In 2008, it was estimated that the potential lifetime costs for treatment with Tratuzumab and Bevacizumab were \\\\$127 million and \\\\$299 million, respectively. This corresponded to an average increase in Canadian healthcare expenditure of approximately 19% for breast cancer and 21% for lung or colorectal cancer over conventional treatments without MAbs. \n",
    "\n",
    "Biosimilars or generics could reduce the treatment costs associated with monoclonal antibody therapeutics and other biopharmaceuticals to make these treatments more accessible. The arrival of these biological drugs whose amino acid sequences are identical to that of the reference product, but the quality attributes are only similar (not identical) – along with the rapid advancement made in analytical characterization techniques, has\n",
    "increased the focus on the analyzing and identifying the factors that affect the quality attributes of antibodies. In the quality by design paradigm, only those physical chemical changes that affect drug product safety or efficacy are designated as critical quality attributes (CQAs) whose levels should be maintained within defined limits. Although quality attributes will vary between processes and products, a few quality attributes of monoclonal antibodies that are known to affect antibody activity in general are discussed here in brief:\n",
    "\n",
    "1. Aggregation – The presence of aggregates or misfolded proteins is known to induce adverse immunological responses in patients and must hence such aggregated proteins must be cleared from the final drug product by implementing appropriate downstream purification strategies. Protein aggregation can occur due to exposed hydrophobic patches on the protein or due to changes in operating conditions. The formation of such aggregates lowers the efficiency of the process and reduces product yield and hence, appropriate strategies must be implemented to reduce protein aggregation.\n",
    "2. Glycation – Glycation is the natural attachment of a reducing sugar to the amine group of lysine side chains via a nonezymatic condensation reaction. Glycation of antibodies can take place during cell culture or in vivo upon storage with lactose. The resulting glycated antibody can exhibit lowered immunoreactivity and increase the drug product heterogeneity.\n",
    "3. Cysteine variants – Monoclonal antibodies contain interchain and intrachain disulphide bonds, which, if disturbed, can cause heterogeneity and disulphide bond scrambling in mAbs. Reduced mAb potency has been observed due to the presence of incomplete disulphide pairing on the protein.\n",
    "\n",
    "Apart from these chemical and physical changes to the protein, glycosylation, one of the most commonly observed post-translational modification, is considered to be a highly critical determinant of protein quality and is discussed in the following section."
   ]
  },
  {
   "cell_type": "markdown",
   "metadata": {},
   "source": [
    "# Glycosylation\n",
    "\n",
    "N-linked glycosylation, which is the focus of the work presented in this dissertation, involves the transfer of a core pentasaccharide from a donor molecule to the recipient protein within the endoplasmic reticulum (ER) of the host cell (see Figure 1-5). Once attached, monosaccharides are cleaved from the saccharide chain, also known as a glycan (Atkinson and Lee 1984; Kornfeld and Kornfeld 1985). Further processing occurs in the Golgi apparatus, where various monosaccharides are added to the glycan via enzymatic reactions (Dunphy and Rothman 1985; Goldberg and Kornfeld 1983). These complex and seemingly unregulated reactions give rise to heterogeneity in a protein’s glycan distribution at both a macroscopic and microscopic level. Macro-heterogeneity relates to the presence or absence of a glycan on the protein, while micro-heterogeneity relates to the monosaccharide composition of the glycan structure. The glycan distribution becomes especially critical to MAb quality when the MAb functions in vivo via antibody-dependent cellular cytotoxicity (ADCC) and/or complement-dependent cytotoxicity (CDC). "
   ]
  },
  {
   "cell_type": "markdown",
   "metadata": {},
   "source": [
    "# Effects of Glycosylation on antibody quality\n",
    "\n",
    "Under such circumstances, the glycan distribution is considered a CQA (Berridge et al. 2009), with the requirement that the glycan distribution of the manufactured MAb match the desired distribution as closely as possible to ensure that the MAb will function as intended in vivo. Specific characteristics of the glycans are known to result in certain pharmacokinetic effects. For instance, terminal galactosylation has been found to impact CDC activity (Hodoniczky et al. 2005); core fucosylation has been found to impact ADCC activity (Shields et al. 2002); and terminal sialylation has been found to impact inflammatory properties as well as ADCC activity (Anthony et al. 2008; Kaneko et al. 2006; Scallon et al. 2007). In addition, terminal mannose and terminal n-acetylglucosamine (GlcNAc) can reduce serum half-life (Jones et al. 2007; Wright et al. 2000). Even low abundances of specific glycans have been shown to produce significant pharmacokinetic effects. For example, Schiestl et al. (2011) characterized commercial batches of Rituxan/Mabthera and found that even a relative abundance of G0 glycans as low as 1% increased ADCC potency by an average of 30% compared to the reference. The final glycan structure formed is known to be dependent on reaction site accessibility, enzyme availability in the host cell, availability of intracellular nucleotide sugar donors, and the transit time in the Golgi apparatus (Butler 2006). These internal cellular conditions, which have the most effect on glycosylation, are impossible to control online directly with current technology. However, they can be indirectly manipulated through culture conditions such as bioreactor process variables (Borys et al. 1993; Gawlitzek et al. 2009; Hayter et al. 1992; Kunkel et al. 2000; Muthing et al. 2003; Senger and Karim 2003; Wong et al. 2005; Yang and Butler 2002) and media formulation (Grainger and James 2013; Gramer et al. 2011; Hong et al. 2010; Konno et al. 2012; Pacis et al. 2011)."
   ]
  },
  {
   "cell_type": "markdown",
   "metadata": {},
   "source": [
    "# Factors affecting Glycosylation\n",
    "\n",
    "The foremost cause of differences in protein glycosylation is the choice\n",
    "of expression system (Jenkins et al. 1996; Parekh 1991). Mammalian, murine, insect, and yeast cell line systems exhibit differences in their post-translational machinery and the right choice of cell line becomes an important factor in determining protein quality. Given the challenges associated with characterizing and controlling glycosylation, the focus has shifted to choosing cell lines or engineering cell lines to achieve desired glycan distribution profiles (Beck et al. 2008; Sethuraman and\n",
    "Stadheim 2006; van Berkel et al. 2009; Yoo et al. 2010). Having chosen a particular cell expression system, there can still be differences in the glycosylation profile during batch to batch operation due to differences in bioreactor conditions (Curling et al. 1990). For instance, glycosylation is known to be affected by bioreactor operating conditions such as pH (Aghamohseni et al. 2014; Ivarsson et al. 2014; Muthing et al.\n",
    "2003; Trummer et al. 2006; Yoon et al. 2005), temperature (Ahn et al. 2008; Clark et al. 2004; Gawlitzek et al. 2009; Sou et al. 2015), hydrodynamic stress (Godoy-Silva et al. 2009), and dissolved oxygen (Kunkel et al. 1998; Restelli et al. 2006; Serrato et al. 2004). Nutrient conditions in the bioreactor, such as the concentration of ammonia (Borys et al. 1994; Chen and Harcum 2006; Gawlitzek et al. 2000; Grammatikos et al. 1998; Yang and Butler 2000), and glucose (Fan et al. 2015a; Fan et al. 2015b; Liu et al. 2014; Villacres et al. 2015) influence the final glycan distribution profile via distinct mechanisms. Similarly, glutamine substitution by glutamate or TCA cycle intermediates was shown to alter the galactosylation and sialylation profiles in different proteins (Ha and Lee 2014; Hong et al. 2010). The use of other hexoses, notably mannose and galactose, to alter the glycan distribution is also well studied (Huang et al. 2015; Liu et al. 2015; Slade et al. 2016). It is important to note that the list of factors affecting the glycosylation profile presented above is not exhaustive, but is representative of the different cell culture conditions that can alter the glycan profile."
   ]
  },
  {
   "cell_type": "markdown",
   "metadata": {},
   "source": [
    "# Current challenges in glycan distribution measurement\n",
    "\n",
    "One challenge to meeting today’s demands on quality assurance and effectiveness is developing a manufacturing process that is capable of making MAb products with the desired glycan distribution consistently from batch to batch. Unfortunately, with current technology, as with most other biopharmaceutical quality attributes, glycosylation patterns can only be determined post-production so that if a batch fails to meet the quality benchmarks for glycosylation patterns, the entire lot must be discarded due to regulatory concerns. Although online control of glycosylation during production is preferred, strategies for ensuring the desired glycan distribution is achieved consistently during production are yet to be implemented broadly in the pharmaceutical industry in general for the following reasons: (i) Online measurements for glycosylation are not available. (ii) Obtaining a comprehensive understanding of glycosylation is challenging due to the complexity of the intracellular process that can vary with cell line, product, and seemingly robust operating conditions. (iii) Comprehensive control paradigms tailor-made for glycosylation control objectives are non-existent."
   ]
  },
  {
   "cell_type": "markdown",
   "metadata": {},
   "source": [
    "# References"
   ]
  },
  {
   "cell_type": "markdown",
   "metadata": {},
   "source": [
    "1. https://www.britannica.com/science/antibody\n",
    "2. Modeling, estimation and control of glycosylation in monoclonal antibodies produced in CHO cells by Devesh Radhakrishnan\n",
    "3. Toward online quality control during biopharmaceutical production by Melissa M. St. Amand "
   ]
  }
 ],
 "metadata": {
  "kernelspec": {
   "display_name": "Python 3",
   "language": "python",
   "name": "python3"
  },
  "language_info": {
   "codemirror_mode": {
    "name": "ipython",
    "version": 3
   },
   "file_extension": ".py",
   "mimetype": "text/x-python",
   "name": "python",
   "nbconvert_exporter": "python",
   "pygments_lexer": "ipython3",
   "version": "3.6.5"
  }
 },
 "nbformat": 4,
 "nbformat_minor": 2
}
